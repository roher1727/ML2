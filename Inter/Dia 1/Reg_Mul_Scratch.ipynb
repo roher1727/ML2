{
  "nbformat": 4,
  "nbformat_minor": 0,
  "metadata": {
    "colab": {
      "name": "Reg_Mul_Scratch.ipynb",
      "version": "0.3.2",
      "provenance": []
    },
    "kernelspec": {
      "name": "python3",
      "display_name": "Python 3"
    }
  },
  "cells": [
    {
      "metadata": {
        "id": "tg3TNsAqsUPL",
        "colab_type": "code",
        "colab": {}
      },
      "cell_type": "code",
      "source": [
        "import numpy as np\n",
        "import pandas as pd"
      ],
      "execution_count": 0,
      "outputs": []
    },
    {
      "metadata": {
        "id": "72De3BUhshFG",
        "colab_type": "code",
        "colab": {}
      },
      "cell_type": "code",
      "source": [
        "def regresion(X, pesos):\n",
        "    return np.dot(X, pesos)"
      ],
      "execution_count": 0,
      "outputs": []
    },
    {
      "metadata": {
        "id": "7o2ODhq-shTQ",
        "colab_type": "code",
        "colab": {}
      },
      "cell_type": "code",
      "source": [
        "def funcion_costo(X, y_real, pesos):\n",
        "    # Cantidad de elementos\n",
        "    m = X.shape[0]\n",
        "    \n",
        "    y_gorro = regresion(X, pesos)\n",
        "\n",
        "    diferencia  =  y_gorro - y_real.reshape(m, 1)\n",
        "    \n",
        "    error = (diferencia ** 2).sum(axis = 0) / (2 * m)\n",
        "  \n",
        "    return error\n",
        "    "
      ],
      "execution_count": 0,
      "outputs": []
    },
    {
      "metadata": {
        "id": "n1TxYMW3sdO1",
        "colab_type": "code",
        "colab": {}
      },
      "cell_type": "code",
      "source": [
        "def grad_descenso(X, y_real ,alpha = 0.001 , iteraciones = 10000):\n",
        "    \n",
        "    m, n = np.shape(X)\n",
        "    \n",
        "    pesos = np.ones((n,1))\n",
        "    \n",
        "    for i in range(iteraciones):\n",
        "      \n",
        "        y_gorro = regresion(X, pesos)\n",
        "\n",
        "        diferencia = (y_gorro - y_real.reshape(m, 1))\n",
        "        \n",
        "        error = (X * diferencia ).sum(axis = 0)\n",
        "        \n",
        "        pesos =  pesos - alpha / m * error.reshape(n, 1) \n",
        "        \n",
        "        if i % 1000 == 0:\n",
        "            print(funcion_costo(X, y_real, pesos))\n",
        "  \n",
        "    return pesos\n",
        "\n",
        "    \n",
        "      "
      ],
      "execution_count": 0,
      "outputs": []
    },
    {
      "metadata": {
        "id": "_fvxhl85zHL9",
        "colab_type": "code",
        "colab": {
          "base_uri": "https://localhost:8080/",
          "height": 235
        },
        "outputId": "a326c4bc-e6a0-416c-c796-733001c125ad"
      },
      "cell_type": "code",
      "source": [
        "from sklearn.datasets import load_boston\n",
        "from sklearn.model_selection import train_test_split\n",
        "\n",
        "boston = load_boston()\n",
        "\n",
        "boston_df =  pd.DataFrame(boston.data, columns = boston.feature_names)\n",
        "\n",
        "data = np.c_[np.ones((boston_df.shape[0], 1)) ,boston_df['RM'].values, boston_df['LSTAT'].values]\n",
        "\n",
        "# Concatenamos el target\n",
        "boston_df['MEDV'] = boston.target\n",
        "\n",
        "X = data \n",
        "Y = boston_df['MEDV'].values\n",
        "\n",
        "X_train, X_test, Y_train, Y_test = train_test_split(X, Y, test_size = 0.2, random_state=5)\n",
        "\n",
        "pesos = grad_descenso(X_train, Y_train)\n",
        "\n",
        "print(pesos)"
      ],
      "execution_count": 134,
      "outputs": [
        {
          "output_type": "stream",
          "text": [
            "[109.56619839]\n",
            "[15.89331466]\n",
            "[15.89325688]\n",
            "[15.89319985]\n",
            "[15.89314351]\n",
            "[15.89308787]\n",
            "[15.89303291]\n",
            "[15.89297863]\n",
            "[15.89292501]\n",
            "[15.89287206]\n",
            "[[ 1.58066029]\n",
            " [ 4.75017967]\n",
            " [-0.70622542]]\n"
          ],
          "name": "stdout"
        }
      ]
    },
    {
      "metadata": {
        "id": "oKd9DttK5GDD",
        "colab_type": "code",
        "colab": {}
      },
      "cell_type": "code",
      "source": [
        ""
      ],
      "execution_count": 0,
      "outputs": []
    }
  ]
}