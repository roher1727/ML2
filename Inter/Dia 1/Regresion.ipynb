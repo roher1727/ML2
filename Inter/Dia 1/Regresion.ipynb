{
 "cells": [
  {
   "cell_type": "code",
   "execution_count": 354,
   "metadata": {},
   "outputs": [],
   "source": [
    "# -*-coding: utf-8 -*-\n",
    "import numpy as np\n",
    "import matplotlib.pyplot as plt\n"
   ]
  },
  {
   "cell_type": "code",
   "execution_count": 397,
   "metadata": {},
   "outputs": [],
   "source": [
    "def linear_regression(X, y, m_current, b_current, iteraciones, learning_rate):\n",
    "    N = float(len(y))\n",
    "    \n",
    "    for i in range(iteraciones):\n",
    "         y_current = (m_current * X) + b_current\n",
    "         cost = sum([data**2 for data in (y-y_current)]) / N\n",
    "         # print(cost)\n",
    "            \n",
    "         # Derivadas parciales de nuestros paramatros\n",
    "         m_gradient = -(2/N) * sum(X * (y - y_current))\n",
    "         b_gradient = -(2/N) * sum(y - y_current)\n",
    "        \n",
    "         # print(\"Gradiente Pendiente {} ,Gradiente Ordenada {}\".format(m_gradient,b_gradient))\n",
    "         \n",
    "         # Gradiente de descenso\n",
    "         m_current = m_current - (learning_rate * m_gradient)\n",
    "         b_current = b_current - (learning_rate * b_gradient)\n",
    "         \n",
    "         # print(\"Pendiente {} , Ordenada {}\".format(m_current,b_current))\n",
    "     \n",
    "    return m_current, b_current, cost"
   ]
  },
  {
   "cell_type": "code",
   "execution_count": 398,
   "metadata": {},
   "outputs": [],
   "source": [
    "def regresion(b, m, dato):\n",
    "    return (dato*m +b)"
   ]
  },
  {
   "cell_type": "code",
   "execution_count": 399,
   "metadata": {},
   "outputs": [],
   "source": [
    "# Extrayendo datos\n",
    "datos = np.genfromtxt('data.csv', delimiter=',')\n"
   ]
  },
  {
   "cell_type": "code",
   "execution_count": 408,
   "metadata": {},
   "outputs": [],
   "source": [
    "\n",
    "# Hiperparametros\n",
    "\n",
    "ritmo_de_aprendizaje = 0.0003\n",
    "\n",
    "# Modelo de regresion lineal\n",
    "# y = mx + b\n",
    "\n",
    "b_inicial = np.random.randn()\n",
    "m_inicial = np.random.randn()\n",
    "\n",
    "\n",
    "iteraciones = 100000"
   ]
  },
  {
   "cell_type": "code",
   "execution_count": 409,
   "metadata": {},
   "outputs": [
    {
     "name": "stdout",
     "output_type": "stream",
     "text": [
      "Gradiente de descenso en b = -2.452542562530481, m= 0.5671382158495668, error = 2412.698862746543 \n",
      "Gradiente de descenso después de 100000 iteraciones en b = 6.907919585948064, m=1.3437190506916985, error = 110.30167418754088 \n"
     ]
    }
   ],
   "source": [
    "\n",
    "#Entrenar el modelo\n",
    "\n",
    "print(\"Gradiente de descenso en b = {0}, m= {1}, error = {2} \".format(b_inicial,m_inicial,error_cuadratico(b_inicial, m_inicial,datos)))\n",
    "\n",
    "# [b , m] = gradiente_de_descenso(datos,b_inicial,m_inicial,ritmo_de_aprendizaje,iteraciones)\n",
    "\n",
    "[m, b, cost] =linear_regression(datos[:,0], datos[:,1], m_inicial, b_inicial, iteraciones, ritmo_de_aprendizaje)\n",
    "\n",
    "print(\"Gradiente de descenso después de {0} iteraciones en b = {1}, m={2}, error = {3} \".format(iteraciones, b,m,cost))\n"
   ]
  },
  {
   "cell_type": "code",
   "execution_count": 410,
   "metadata": {
    "scrolled": true
   },
   "outputs": [
    {
     "data": {
      "text/plain": [
       "[<matplotlib.lines.Line2D at 0x7fde92511358>]"
      ]
     },
     "execution_count": 410,
     "metadata": {},
     "output_type": "execute_result"
    },
    {
     "data": {
      "image/png": "[encoded data removed]",
      "text/plain": [
       "<Figure size 960x320 with 3 Axes>"
      ]
     },
     "metadata": {},
     "output_type": "display_data"
    }
   ],
   "source": [
    "predicciones = np.array([prediccion(b, m, d) for d in datos[:,0]])\n",
    "\n",
    "\n",
    "fig=plt.figure(figsize=(12, 4), dpi= 80, facecolor='w', edgecolor='k')\n",
    "\n",
    "plt.subplot(131)\n",
    "plt.scatter(datos[:,0], datos[:,1], c=\"g\")\n",
    "\n",
    "\n",
    "plt.subplot(132)\n",
    "plt.plot(datos[:,0],predicciones)\n",
    "\n",
    "plt.subplot(133)\n",
    "plt.scatter(datos[:,0], datos[:,1], c=\"g\")\n",
    "plt.plot(datos[:,0],predicciones)\n"
   ]
  },
  {
   "cell_type": "code",
   "execution_count": 411,
   "metadata": {},
   "outputs": [],
   "source": [
    "media = sum(datos[:,1])/len(datos)\n",
    "dif_1 = datos[:,1]-predicciones\n",
    "dif_2 = datos[:,1]-np.mean(datos[:,1])\n",
    "r_cuadrada =1 - sum(dif_1**2)/sum(dif_2**2)"
   ]
  },
  {
   "cell_type": "code",
   "execution_count": 412,
   "metadata": {},
   "outputs": [
    {
     "data": {
      "text/plain": [
       "0.5984945776685372"
      ]
     },
     "execution_count": 412,
     "metadata": {},
     "output_type": "execute_result"
    }
   ],
   "source": [
    "# Coeficiente de Determinacion\n",
    "r_cuadrada"
   ]
  },
  {
   "cell_type": "code",
   "execution_count": null,
   "metadata": {},
   "outputs": [],
   "source": []
  }
 ],
 "metadata": {
  "kernelspec": {
   "display_name": "Python 3",
   "language": "python",
   "name": "python3"
  },
  "language_info": {
   "codemirror_mode": {
    "name": "ipython",
    "version": 3
   },
   "file_extension": ".py",
   "mimetype": "text/x-python",
   "name": "python",
   "nbconvert_exporter": "python",
   "pygments_lexer": "ipython3",
   "version": "3.6.7"
  }
 },
 "nbformat": 4,
 "nbformat_minor": 2
}
