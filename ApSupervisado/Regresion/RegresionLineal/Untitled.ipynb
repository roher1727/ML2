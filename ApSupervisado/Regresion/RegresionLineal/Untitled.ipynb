{
 "cells": [
  {
   "cell_type": "code",
   "execution_count": 1,
   "metadata": {},
   "outputs": [],
   "source": [
    "# -*-coding: utf-8 -*-\n",
    "import numpy as np\n"
   ]
  },
  {
   "cell_type": "code",
   "execution_count": 8,
   "metadata": {},
   "outputs": [],
   "source": [
    "def error_cuadratico(b,m,datos):\n",
    "    \n",
    "    # Inicializamos en 0\n",
    "    errorTotal=0\n",
    "    for i in range(0,len(datos)):\n",
    "        # Obteniendo x\n",
    "        x = datos[i,0]\n",
    "        # Obteniendo y\n",
    "        y = datos[i,1]\n",
    "\n",
    "        #Aplicando error cuadratico\n",
    "        errorTotal += (y - (m*x + b))** 2\n",
    "\n",
    "    # Retornando error cuadrático medio\n",
    "    return errorTotal/float(len(datos))"
   ]
  },
  {
   "cell_type": "code",
   "execution_count": 9,
   "metadata": {},
   "outputs": [],
   "source": [
    "def gradiente_de_descenso(datos, b_inicial,m_inicial,ritmo_de_aprendizaje,iteraciones):\n",
    "\n",
    "    b = b_inicial\n",
    "    m = m_inicial\n",
    "\n",
    "    # Gradiente de descenso\n",
    "    for i in range(iteraciones):\n",
    "        # A ctualizar b y m con el paso del gradiente\n",
    "        b,m = paso_gradiente(b,m,np.array(datos),ritmo_de_aprendizaje)\n",
    "\n",
    "    return [b,m]"
   ]
  },
  {
   "cell_type": "code",
   "execution_count": 7,
   "metadata": {},
   "outputs": [],
   "source": [
    "def paso_gradiente(b_actual,m_actual,datos, ritmo_de_aprendizaje):\n",
    "\n",
    "    b_gradiente = 0\n",
    "    m_gradiente = 0\n",
    "    N = float(len(datos))\n",
    "\n",
    "    for i in range(0,len(datos)):\n",
    "        x=datos[i,0]\n",
    "        # Obteniendo y\n",
    "        y=datos[i,1]\n",
    "\n",
    "        #Derivadas parciales respecto b y m\n",
    "        b_gradiente += -(2/N) * (y - ((m_actual*x) + b_actual))\n",
    "        m_gradiente += (2/N) * x * (y - ((m_actual*x) + b_actual))\n",
    "\n",
    "    nueva_b = b_actual -(ritmo_de_aprendizaje*b_gradiente)\n",
    "    nueva_m = m_actual -(ritmo_de_aprendizaje*m_gradiente)\n",
    "\n",
    "    return [nueva_b,nueva_m]"
   ]
  },
  {
   "cell_type": "code",
   "execution_count": null,
   "metadata": {},
   "outputs": [],
   "source": [
    "# Extrayendo datos\n",
    "datos = np.genfromtxt('data.csv', delimiter=',')\n",
    "\n",
    "# Hiperparametros\n",
    "ritmo_de_aprendizaje= 0.001\n",
    "\n",
    "# Modelo de regresion lineal\n",
    "# y = mx + b\n",
    "\n",
    "b_inicial=0\n",
    "m_inicial=0\n",
    "\n",
    "iteraciones = 1000\n"
   ]
  },
  {
   "cell_type": "code",
   "execution_count": null,
   "metadata": {},
   "outputs": [],
   "source": [
    "\n",
    "#Entrenar el modelo\n",
    "\n",
    "print(\"Gradiente de descenso en b = {0}, m= {1}, error = {2} \".format(b_inicial,m_inicial,error_cuadratico(b_inicial,\tm_inicial,datos)))\t\n",
    "\n",
    "[b , m] = gradiente_de_descenso(datos,b_inicial,m_inicial,ritmo_de_aprendizaje,iteraciones)\n",
    "\n",
    "print(\"Gradiente de descenso después de {0} iteraciones en b = {1}, m={2}, error = {3} \".format(iteraciones, b,m,error_cuadratico(b,m,datos)))\n"
   ]
  }
 ],
 "metadata": {
  "kernelspec": {
   "display_name": "Python 3",
   "language": "python",
   "name": "python3"
  },
  "language_info": {
   "codemirror_mode": {
    "name": "ipython",
    "version": 3
   },
   "file_extension": ".py",
   "mimetype": "text/x-python",
   "name": "python",
   "nbconvert_exporter": "python",
   "pygments_lexer": "ipython3",
   "version": "3.6.6"
  }
 },
 "nbformat": 4,
 "nbformat_minor": 2
}
