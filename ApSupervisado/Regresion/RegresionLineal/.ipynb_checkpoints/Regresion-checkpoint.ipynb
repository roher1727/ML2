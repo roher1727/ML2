{
 "cells": [
  {
   "cell_type": "code",
   "execution_count": 175,
   "metadata": {},
   "outputs": [],
   "source": [
    "# -*-coding: utf-8 -*-\n",
    "import numpy as np\n",
    "import matplotlib.pyplot as plt\n"
   ]
  },
  {
   "cell_type": "code",
   "execution_count": 176,
   "metadata": {},
   "outputs": [],
   "source": [
    "def error_cuadratico(b,m,datos):\n",
    "    \n",
    "    # Inicializamos en 0\n",
    "    errorTotal=0\n",
    "    for i in range(0,len(datos)):\n",
    "        # Obteniendo x\n",
    "        x = datos[i,0]\n",
    "        # Obteniendo y\n",
    "        y = datos[i,1]\n",
    "\n",
    "        #Aplicando error cuadratico\n",
    "        errorTotal += (y - (m*x + b))** 2\n",
    "\n",
    "    # Retornando error cuadrático medio\n",
    "    return errorTotal/float(len(datos))"
   ]
  },
  {
   "cell_type": "code",
   "execution_count": 177,
   "metadata": {},
   "outputs": [],
   "source": [
    "def gradiente_de_descenso(datos, b_inicial,m_inicial,ritmo_de_aprendizaje,iteraciones):\n",
    "\n",
    "    b = b_inicial\n",
    "    m = m_inicial\n",
    "\n",
    "    # Gradiente de descenso\n",
    "    for i in range(iteraciones):\n",
    "        # Actualizar b y m con el paso del gradiente\n",
    "        b, m = paso_gradiente(b, m, np.array(datos), ritmo_de_aprendizaje)\n",
    "\n",
    "    return [b, m]"
   ]
  },
  {
   "cell_type": "code",
   "execution_count": 178,
   "metadata": {},
   "outputs": [],
   "source": [
    "def paso_gradiente(b_actual, m_actual, datos, ritmo_de_aprendizaje):\n",
    "\n",
    "    b_gradiente = 0\n",
    "    m_gradiente = 0\n",
    "    \n",
    "    N = float(len(datos))\n",
    "\n",
    "    for i in range(0,len(datos)):\n",
    "        x = datos[i,0]\n",
    "        # Obteniendo y\n",
    "        y = datos[i,1]\n",
    "\n",
    "        # Derivadas parciales respecto b y m\n",
    "        b_gradiente += -(2/N) * (y - ((m_actual*x) + b_actual))\n",
    "        m_gradiente += -(2/N) * x * (y - ((m_actual * x) + b_actual))\n",
    "        print(m_gradiente)\n",
    "\n",
    "    nueva_b = b_actual - (ritmo_de_aprendizaje*b_gradiente)\n",
    "    nueva_m = m_actual - (ritmo_de_aprendizaje*m_gradiente)\n",
    "\n",
    "    return [nueva_b, nueva_m]"
   ]
  },
  {
   "cell_type": "code",
   "execution_count": 189,
   "metadata": {},
   "outputs": [],
   "source": [
    "def linear_regression(X, y, m_current, b_current, epochs=10000, learning_rate=0.0002):\n",
    "     N = float(len(y))\n",
    "     \n",
    "     for i in range(epochs):\n",
    "          y_current = (m_current * X) + b_current\n",
    "          cost = sum([data**2 for data in (y-y_current)]) / N\n",
    "          m_gradient = -(2/N) * sum(X * (y - y_current))\n",
    "          b_gradient = -(2/N) * sum(y - y_current)\n",
    "          m_current = m_current - (learning_rate * m_gradient)\n",
    "          b_current = b_current - (learning_rate * b_gradient)\n",
    "     \n",
    "    return m_current, b_current, cost"
   ]
  },
  {
   "cell_type": "code",
   "execution_count": 190,
   "metadata": {},
   "outputs": [],
   "source": [
    "def regresion(b, m, dato):\n",
    "    return (dato*m +b)"
   ]
  },
  {
   "cell_type": "code",
   "execution_count": 191,
   "metadata": {},
   "outputs": [],
   "source": [
    "# Extrayendo datos\n",
    "datos = np.genfromtxt('data.csv', delimiter=',')\n"
   ]
  },
  {
   "cell_type": "code",
   "execution_count": 192,
   "metadata": {},
   "outputs": [],
   "source": [
    "\n",
    "# Hiperparametros\n",
    "\n",
    "ritmo_de_aprendizaje = 0.0001\n",
    "\n",
    "# Modelo de regresion lineal\n",
    "# y = mx + b\n",
    "\n",
    "b_inicial = np.random.randn()\n",
    "m_inicial = np.random.randn()\n",
    "\n",
    "\n",
    "iteraciones = 100"
   ]
  },
  {
   "cell_type": "code",
   "execution_count": 193,
   "metadata": {},
   "outputs": [
    {
     "name": "stdout",
     "output_type": "stream",
     "text": [
      "Gradiente de descenso en b = 0.6055651007046748, m= 1.0212105672634506, error = 608.6470100651934 \n",
      "Gradiente de descenso después de 100 iteraciones en b = 1.4471028268136612, m=1.647915577609209, error = 111.77643260329906 \n",
      "114.65890300856633\n"
     ]
    }
   ],
   "source": [
    "\n",
    "#Entrenar el modelo\n",
    "\n",
    "print(\"Gradiente de descenso en b = {0}, m= {1}, error = {2} \".format(b_inicial,m_inicial,error_cuadratico(b_inicial, m_inicial,datos)))\n",
    "\n",
    "# [b , m] = gradiente_de_descenso(datos,b_inicial,m_inicial,ritmo_de_aprendizaje,iteraciones)\n",
    "\n",
    "[b, m, cost] =linear_regression(datos[:,0], datos[:,1], m_inicial, b_inicial)\n",
    "\n",
    "print(\"Gradiente de descenso después de {0} iteraciones en b = {1}, m={2}, error = {3} \".format(iteraciones, b,m,cost))\n",
    "\n",
    "print(regresion(b, m, 68.7))"
   ]
  },
  {
   "cell_type": "code",
   "execution_count": 194,
   "metadata": {
    "scrolled": true
   },
   "outputs": [
    {
     "data": {
      "text/plain": [
       "[<matplotlib.lines.Line2D at 0x7fde98291240>]"
      ]
     },
     "execution_count": 194,
     "metadata": {},
     "output_type": "execute_result"
    },
    {
     "data": {
      "image/png": "[encoded data removed]",
      "text/plain": [
       "<Figure size 432x288 with 1 Axes>"
      ]
     },
     "metadata": {
      "needs_background": "light"
     },
     "output_type": "display_data"
    }
   ],
   "source": [
    "plt.scatter(datos[:,0], datos[:,1], c=\"g\")\n",
    "predicciones = np.array([prediccion(b, m, d) for d in datos[:,0]])\n",
    "plt.plot(datos[:,0],predicciones)\n",
    "# plt.plot(regresion(b, m, datos))"
   ]
  },
  {
   "cell_type": "code",
   "execution_count": null,
   "metadata": {},
   "outputs": [],
   "source": []
  }
 ],
 "metadata": {
  "kernelspec": {
   "display_name": "Python 3",
   "language": "python",
   "name": "python3"
  },
  "language_info": {
   "codemirror_mode": {
    "name": "ipython",
    "version": 3
   },
   "file_extension": ".py",
   "mimetype": "text/x-python",
   "name": "python",
   "nbconvert_exporter": "python",
   "pygments_lexer": "ipython3",
   "version": "3.6.6"
  }
 },
 "nbformat": 4,
 "nbformat_minor": 2
}
