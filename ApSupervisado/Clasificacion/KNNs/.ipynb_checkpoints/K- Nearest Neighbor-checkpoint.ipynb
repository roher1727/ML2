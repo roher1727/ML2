{
 "cells": [
  {
   "cell_type": "code",
   "execution_count": 209,
   "metadata": {},
   "outputs": [],
   "source": [
    "%matplotlib inline\n",
    "import numpy as np\n",
    "import matplotlib.pyplot as plt\n",
    "import operator\n",
    "import pandas as pd"
   ]
  },
  {
   "cell_type": "markdown",
   "metadata": {},
   "source": [
    "_Por cada punto en nuestro dataset:\n",
    "Calcular la distancia entre el dato de entrada inX y cada punto\n",
    "ordenar las distancias en orden ascendente\n",
    "tomar k elementos con las distancias mas cortas\n",
    "encontrar la clase que es mayoría\n",
    "retornar la clase que es mayoría para definir inX_"
   ]
  },
  {
   "cell_type": "code",
   "execution_count": 210,
   "metadata": {},
   "outputs": [],
   "source": [
    "def clasificar(inX, dataSet, labels, k):\n",
    "    dataSetSize = dataSet.shape[0]\n",
    "    # Se obtiene el numero de filas (n)  del dataset\n",
    "    diffMat = np.tile(inX, (dataSetSize,1)) - dataSet\n",
    "    # Con el metodo tile obtenemos n numero de copias de inX, formando una matriz n x len(inX) \n",
    "    # Lo restamos con cada elemento del dataset y asi obtenemos las diferencias  \n",
    "    \n",
    "    sqDiffMat = diffMat**2\n",
    "    # Elevamos al cuadrado cada diferencia\n",
    "    \n",
    "    sqDistances = sqDiffMat.sum(axis=1)\n",
    "    # Sumamos cada vector fila de la matriz\n",
    "    \n",
    "    distances = sqDistances**0.5\n",
    "    # Obtenemos la raíz cuadrada del vector fila, obteniendo las distancias euclideanas\n",
    "    \n",
    "    sortedDistIndicies = distances.argsort()\n",
    "    # Ordenamos las distancias\n",
    "    \n",
    "    classCount={}\n",
    "    # Creamos un diccionario para hacer un conteo de las distancias\n",
    "\n",
    "    for i in range(k):\n",
    "        # Obtendremos las K distancias mas cercanas\n",
    "        \n",
    "        voteIlabel = labels[sortedDistIndicies[i]]\n",
    "        # Obtenemos a que clase le corresponde cada distancia\n",
    "        \n",
    "        classCount[voteIlabel] = classCount.get(voteIlabel,0) + 1\n",
    "        # Vamos contando las clases que vamos obteniendo\n",
    "    \n",
    "    \n",
    "    sortedClassCount = sorted(classCount.items(), key=operator.itemgetter(1), reverse=True)\n",
    "    # Ordenamos nuestro diccionario de manera descendente para que el primer elemento(clase) \n",
    "    # Sea la clase que mas se repitio de las distancias mas cortas\n",
    "    \n",
    "    # Retornamos la clase mas repetida\n",
    "    return sortedClassCount[0][0]"
   ]
  },
  {
   "cell_type": "code",
   "execution_count": 211,
   "metadata": {},
   "outputs": [],
   "source": [
    "def particionar(data_set, porcentaje):\n",
    "    limite = int(data_set.shape[0]*porcentaje)\n",
    "    np.random.shuffle(data_set)\n",
    "    train_set, test_set = data_set[:limite,:], data_set[limite:,:]\n",
    "    return train_set,test_set"
   ]
  },
  {
   "cell_type": "code",
   "execution_count": 212,
   "metadata": {},
   "outputs": [],
   "source": [
    "url = 'https://archive.ics.uci.edu/ml/machine-learning-databases/iris/iris.data'\n",
    "nombres = ['longitud_sepalo','ancho_sepalo','longitud_petalo','ancho_petalo','clase']\n",
    "iris = pd.read_csv(url, names = nombres)\n",
    "\n",
    "train,test=particionar(iris.values,0.8)\n"
   ]
  },
  {
   "cell_type": "code",
   "execution_count": 213,
   "metadata": {},
   "outputs": [],
   "source": [
    "resultados = np.array([clasificar(t, train[:,:4], train[:,4], 10) for t in test[:,:4]])"
   ]
  },
  {
   "cell_type": "code",
   "execution_count": 214,
   "metadata": {},
   "outputs": [
    {
     "data": {
      "text/plain": [
       "array(['Iris-virginica', 'Iris-setosa', 'Iris-setosa', 'Iris-versicolor',\n",
       "       'Iris-setosa', 'Iris-versicolor', 'Iris-setosa', 'Iris-versicolor',\n",
       "       'Iris-virginica', 'Iris-setosa', 'Iris-versicolor',\n",
       "       'Iris-versicolor', 'Iris-versicolor', 'Iris-virginica',\n",
       "       'Iris-virginica', 'Iris-setosa', 'Iris-versicolor',\n",
       "       'Iris-versicolor', 'Iris-versicolor', 'Iris-virginica',\n",
       "       'Iris-virginica', 'Iris-setosa', 'Iris-virginica',\n",
       "       'Iris-virginica', 'Iris-versicolor', 'Iris-virginica',\n",
       "       'Iris-virginica', 'Iris-virginica', 'Iris-setosa',\n",
       "       'Iris-versicolor'], dtype='<U15')"
      ]
     },
     "execution_count": 214,
     "metadata": {},
     "output_type": "execute_result"
    }
   ],
   "source": [
    "resultados"
   ]
  },
  {
   "cell_type": "code",
   "execution_count": 215,
   "metadata": {},
   "outputs": [
    {
     "data": {
      "text/plain": [
       "array(['Iris-virginica', 'Iris-setosa', 'Iris-setosa', 'Iris-versicolor',\n",
       "       'Iris-setosa', 'Iris-virginica', 'Iris-setosa', 'Iris-versicolor',\n",
       "       'Iris-virginica', 'Iris-setosa', 'Iris-versicolor',\n",
       "       'Iris-versicolor', 'Iris-versicolor', 'Iris-virginica',\n",
       "       'Iris-virginica', 'Iris-setosa', 'Iris-versicolor',\n",
       "       'Iris-versicolor', 'Iris-versicolor', 'Iris-virginica',\n",
       "       'Iris-virginica', 'Iris-setosa', 'Iris-virginica',\n",
       "       'Iris-versicolor', 'Iris-virginica', 'Iris-virginica',\n",
       "       'Iris-virginica', 'Iris-virginica', 'Iris-setosa',\n",
       "       'Iris-versicolor'], dtype=object)"
      ]
     },
     "execution_count": 215,
     "metadata": {},
     "output_type": "execute_result"
    }
   ],
   "source": [
    "test[:,4]"
   ]
  },
  {
   "cell_type": "code",
   "execution_count": 217,
   "metadata": {},
   "outputs": [],
   "source": [
    "comparacion = (resultados == test[:,4])"
   ]
  },
  {
   "cell_type": "code",
   "execution_count": 221,
   "metadata": {},
   "outputs": [],
   "source": [
    "import collections\n",
    "\n",
    "dic_ele = collections.Counter(comparacion)\n",
    "\n",
    "eficacia = dic_ele[True]/comparacion.size "
   ]
  },
  {
   "cell_type": "code",
   "execution_count": 223,
   "metadata": {},
   "outputs": [
    {
     "data": {
      "text/plain": [
       "90.0"
      ]
     },
     "execution_count": 223,
     "metadata": {},
     "output_type": "execute_result"
    }
   ],
   "source": [
    "eficacia*100"
   ]
  },
  {
   "cell_type": "code",
   "execution_count": null,
   "metadata": {},
   "outputs": [],
   "source": []
  }
 ],
 "metadata": {
  "kernelspec": {
   "display_name": "Python 3",
   "language": "python",
   "name": "python3"
  },
  "language_info": {
   "codemirror_mode": {
    "name": "ipython",
    "version": 3
   },
   "file_extension": ".py",
   "mimetype": "text/x-python",
   "name": "python",
   "nbconvert_exporter": "python",
   "pygments_lexer": "ipython3",
   "version": "3.6.6"
  }
 },
 "nbformat": 4,
 "nbformat_minor": 2
}
