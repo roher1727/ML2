{
 "cells": [
  {
   "cell_type": "code",
   "execution_count": 1,
   "metadata": {},
   "outputs": [],
   "source": [
    "import tensorflow as tf"
   ]
  },
  {
   "cell_type": "code",
   "execution_count": 3,
   "metadata": {},
   "outputs": [
    {
     "name": "stdout",
     "output_type": "stream",
     "text": [
      "WARNING:tensorflow:From <ipython-input-3-5c81c5f4c9da>:3: read_data_sets (from tensorflow.contrib.learn.python.learn.datasets.mnist) is deprecated and will be removed in a future version.\n",
      "Instructions for updating:\n",
      "Please use alternatives such as official/mnist/dataset.py from tensorflow/models.\n",
      "WARNING:tensorflow:From C:\\Users\\roher\\AppData\\Local\\conda\\conda\\envs\\tenflow\\lib\\site-packages\\tensorflow\\contrib\\learn\\python\\learn\\datasets\\mnist.py:260: maybe_download (from tensorflow.contrib.learn.python.learn.datasets.base) is deprecated and will be removed in a future version.\n",
      "Instructions for updating:\n",
      "Please write your own downloading logic.\n",
      "WARNING:tensorflow:From C:\\Users\\roher\\AppData\\Local\\conda\\conda\\envs\\tenflow\\lib\\site-packages\\tensorflow\\contrib\\learn\\python\\learn\\datasets\\mnist.py:262: extract_images (from tensorflow.contrib.learn.python.learn.datasets.mnist) is deprecated and will be removed in a future version.\n",
      "Instructions for updating:\n",
      "Please use tf.data to implement this functionality.\n",
      "Extracting MNIST_data/train-images-idx3-ubyte.gz\n",
      "WARNING:tensorflow:From C:\\Users\\roher\\AppData\\Local\\conda\\conda\\envs\\tenflow\\lib\\site-packages\\tensorflow\\contrib\\learn\\python\\learn\\datasets\\mnist.py:267: extract_labels (from tensorflow.contrib.learn.python.learn.datasets.mnist) is deprecated and will be removed in a future version.\n",
      "Instructions for updating:\n",
      "Please use tf.data to implement this functionality.\n",
      "Extracting MNIST_data/train-labels-idx1-ubyte.gz\n",
      "WARNING:tensorflow:From C:\\Users\\roher\\AppData\\Local\\conda\\conda\\envs\\tenflow\\lib\\site-packages\\tensorflow\\contrib\\learn\\python\\learn\\datasets\\mnist.py:110: dense_to_one_hot (from tensorflow.contrib.learn.python.learn.datasets.mnist) is deprecated and will be removed in a future version.\n",
      "Instructions for updating:\n",
      "Please use tf.one_hot on tensors.\n",
      "Extracting MNIST_data/t10k-images-idx3-ubyte.gz\n",
      "Extracting MNIST_data/t10k-labels-idx1-ubyte.gz\n",
      "WARNING:tensorflow:From C:\\Users\\roher\\AppData\\Local\\conda\\conda\\envs\\tenflow\\lib\\site-packages\\tensorflow\\contrib\\learn\\python\\learn\\datasets\\mnist.py:290: DataSet.__init__ (from tensorflow.contrib.learn.python.learn.datasets.mnist) is deprecated and will be removed in a future version.\n",
      "Instructions for updating:\n",
      "Please use alternatives such as official/mnist/dataset.py from tensorflow/models.\n"
     ]
    }
   ],
   "source": [
    "from tensorflow.examples.tutorials.mnist import input_data\n",
    "\n",
    "mnist = input_data.read_data_sets(\"MNIST_data/\", one_hot=True)"
   ]
  },
  {
   "cell_type": "markdown",
   "metadata": {},
   "source": [
    "%%latex\n",
    "\n",
    "\n",
    "# Para representar los datos utilizamos la técnica one-hot-encoding en la cual representamos las clases con un solo vector fila 1x10.\n",
    "\\begin{matrix} Ejemplo:  9 \\ representado \\ por \\ V=[ 0 & 0 & 0 & 0 & 0 & 0 & 0 & 0 & 0 & 1 ]\\end{matrix}\n",
    "\n",
    "\n",
    "\\begin{matrix} Ejemplo:  2 \\ representado \\ por \\ V=[ 0 & 1 & 0 & 0 & 0 & 0 & 0 & 0 & 0 & 0 ]\\end{matrix}\n"
   ]
  },
  {
   "cell_type": "code",
   "execution_count": 7,
   "metadata": {},
   "outputs": [],
   "source": [
    "# Obtenemos nuestro dataset y obtenemos cada particion\n",
    "\n",
    "# Partición de entrenamiento\n",
    "n_train = mnist.train.num_examples\n",
    "\n",
    "# Partición de validación\n",
    "n_validation = mnist.validation.num_examples\n",
    "\n",
    "# Partición de prueba\n",
    "n_test = mnist.test.num_examples"
   ]
  },
  {
   "cell_type": "code",
   "execution_count": 13,
   "metadata": {},
   "outputs": [],
   "source": [
    "n_entrada = 784 # Capa de entrada (28X28)\n",
    "n_oculta1 = 512 # Primera capa oculta\n",
    "n_oculta2 = 256 # Segunda capa oculta\n",
    "n_oculta3 = 128 # Tercera capa oculta\n",
    "n_salida = 10 # Capa de salida que es del tamaño de nuestro vector que representa los digitos"
   ]
  },
  {
   "cell_type": "code",
   "execution_count": null,
   "metadata": {},
   "outputs": [],
   "source": [
    "ritmo_de_aprendizaje = 1e-4 #Numero que sera multiplicado por el gradiente de descenso\n",
    "n_iteraciones = 1000 # Numero de veces que vamos a entrenar nuestra red\n",
    "tamanio_batch = 128 # Cuantas muestras utilizamos en cada iteracion para hacer feed foward\n",
    "dropout = 0.5"
   ]
  },
  {
   "cell_type": "code",
   "execution_count": 11,
   "metadata": {},
   "outputs": [],
   "source": [
    "# tf.placeholder(tipo_dato, [columnas,filas])\n",
    "X = tf.placeholder(\"float\", [None, nentrada]) # Definimos en nuestro modelo nuestra capa de entra, que tiene 784 filas y 0 columnas\n",
    "Y = tf.placeholder(\"float\", [None, nsalida]) # Definimos en nuestro modelo nuestra capa de salida, que tiene 10ilas y 0 columnas\n",
    "keep_prob = tf.placeholder(tf.float32) "
   ]
  },
  {
   "cell_type": "code",
   "execution_count": 12,
   "metadata": {},
   "outputs": [],
   "source": [
    "?tf.placeholder"
   ]
  },
  {
   "cell_type": "code",
   "execution_count": 19,
   "metadata": {},
   "outputs": [],
   "source": [
    "# En un diccionario(tensor) almacenaremos nuestras matrices de pesos \n",
    "pesos = {\n",
    "    'p1': tf.Variable(tf.truncated_normal([n_entrada, n_oculta1], stddev=0.1)),\n",
    "    'p2': tf.Variable(tf.truncated_normal([n_oculta1, n_oculta2], stddev=0.1)),\n",
    "    'p3': tf.Variable(tf.truncated_normal([n_oculta2, n_oculta3], stddev=0.1)),\n",
    "    'salida': tf.Variable(tf.truncated_normal([n_oculta3, n_salida], stddev=0.1)),\n",
    "\n",
    "}"
   ]
  },
  {
   "cell_type": "code",
   "execution_count": 29,
   "metadata": {},
   "outputs": [],
   "source": [
    "biases = {\n",
    "    'b1': tf.Variable(tf.constant(0.1, shape=[n_oculta1])),\n",
    "    'b2': tf.Variable(tf.constant(0.1, shape=[n_oculta2])),\n",
    "    'b3': tf.Variable(tf.constant(0.1, shape=[n_oculta3])),\n",
    "    'salida': tf.Variable(tf.constant(0.1, shape=[c_salida]))\n",
    "}"
   ]
  },
  {
   "cell_type": "code",
   "execution_count": 35,
   "metadata": {},
   "outputs": [],
   "source": [
    "capa_1 = tf.add(tf.matmul(X, pesos['p1']), biases['b1'])\n",
    "capa_2 = tf.add(tf.matmul(capa_1, pesos['p2']), biases['b2'])\n",
    "capa_3 = tf.add(tf.matmul(capa_2, pesos['p3']), biases['b3'])\n",
    "layer_drop = tf.nn.dropout(capa_3, keep_prob)\n",
    "capa_salida = tf.matmul(capa_3, pesos['salida']) + biases['salida']"
   ]
  },
  {
   "cell_type": "code",
   "execution_count": 36,
   "metadata": {},
   "outputs": [],
   "source": [
    "cross_entropy = tf.reduce_mean(tf.nn.softmax_cross_entropy_with_logits_v2(labels=Y, logits=capa_salida))\n",
    "train_step = tf.train.AdamOptimizer(1e-4).minimize(cross_entropy)"
   ]
  },
  {
   "cell_type": "code",
   "execution_count": null,
   "metadata": {},
   "outputs": [],
   "source": [
    "correct_pred = tf.equal(tf.argmax(output_laye , 1), tf.argmax(Y, 1))\n",
    "accuracy = tf.reduce_mean(tf.cast(correct_pred, tf.float32))"
   ]
  }
 ],
 "metadata": {
  "kernelspec": {
   "display_name": "Python (tenflow)",
   "language": "python",
   "name": "tenflow"
  },
  "language_info": {
   "codemirror_mode": {
    "name": "ipython",
    "version": 3
   },
   "file_extension": ".py",
   "mimetype": "text/x-python",
   "name": "python",
   "nbconvert_exporter": "python",
   "pygments_lexer": "ipython3",
   "version": "3.6.6"
  }
 },
 "nbformat": 4,
 "nbformat_minor": 2
}
